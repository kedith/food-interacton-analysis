{
 "cells": [
  {
   "cell_type": "markdown",
   "metadata": {},
   "source": [
    "# Food interactions - data analysis & cleaning"
   ]
  },
  {
   "cell_type": "markdown",
   "metadata": {},
   "source": [
    "The food interaction descriptions are not introduced in a unified format and therefore represent data which needs to be analysed and cleaned before proper use. The final goal is to have the shortest possible descriptions which can be used in FCA."
   ]
  },
  {
   "cell_type": "markdown",
   "metadata": {},
   "source": [
    "## I. Analysis"
   ]
  },
  {
   "cell_type": "markdown",
   "metadata": {},
   "source": [
    "The first step is to get to know the data. The findings of this part are:\n",
    "* 1194 food interaction descriptions\n",
    "* 498 unique food interaction descriptions\n",
    "* multiple sentence descriptions, which can be split into separate descriptions\n",
    "* redundant descriptions which can be removed (ex.  'No food effects.', 'No known food interactions.')"
   ]
  },
  {
   "cell_type": "code",
   "execution_count": 2,
   "metadata": {},
   "outputs": [],
   "source": [
    "import pandas as pd\n",
    "from fuzzywuzzy import fuzz\n",
    "from fuzzywuzzy import process"
   ]
  },
  {
   "cell_type": "code",
   "execution_count": 14,
   "metadata": {},
   "outputs": [],
   "source": [
    "food_df = pd.read_csv('../initial_data/food_interactions.csv')\n",
    "food_df.rename(columns=food_df.iloc[0]).drop(food_df.index[0]);"
   ]
  },
  {
   "cell_type": "code",
   "execution_count": 15,
   "metadata": {},
   "outputs": [],
   "source": [
    "food_df['description'] = food_df['description'].str.strip(); #Remove spaces from the beginning and end"
   ]
  },
  {
   "cell_type": "code",
   "execution_count": 3,
   "metadata": {},
   "outputs": [
    {
     "data": {
      "text/html": [
       "<div>\n",
       "<style scoped>\n",
       "    .dataframe tbody tr th:only-of-type {\n",
       "        vertical-align: middle;\n",
       "    }\n",
       "\n",
       "    .dataframe tbody tr th {\n",
       "        vertical-align: top;\n",
       "    }\n",
       "\n",
       "    .dataframe thead th {\n",
       "        text-align: right;\n",
       "    }\n",
       "</style>\n",
       "<table border=\"1\" class=\"dataframe\">\n",
       "  <thead>\n",
       "    <tr style=\"text-align: right;\">\n",
       "      <th></th>\n",
       "      <th>drug_id</th>\n",
       "      <th>description</th>\n",
       "    </tr>\n",
       "  </thead>\n",
       "  <tbody>\n",
       "    <tr>\n",
       "      <th>0</th>\n",
       "      <td>DB00006</td>\n",
       "      <td>Dan shen, dong quai, evening primrose oil, gin...</td>\n",
       "    </tr>\n",
       "    <tr>\n",
       "      <th>1</th>\n",
       "      <td>DB00006</td>\n",
       "      <td>Echinacea</td>\n",
       "    </tr>\n",
       "    <tr>\n",
       "      <th>2</th>\n",
       "      <td>DB00008</td>\n",
       "      <td>Recommended adequate hydration.</td>\n",
       "    </tr>\n",
       "    <tr>\n",
       "      <th>3</th>\n",
       "      <td>DB00011</td>\n",
       "      <td>Avoid alcohol.</td>\n",
       "    </tr>\n",
       "    <tr>\n",
       "      <th>4</th>\n",
       "      <td>DB00034</td>\n",
       "      <td>Avoid alcohol.</td>\n",
       "    </tr>\n",
       "  </tbody>\n",
       "</table>\n",
       "</div>"
      ],
      "text/plain": [
       "   drug_id                                        description\n",
       "0  DB00006  Dan shen, dong quai, evening primrose oil, gin...\n",
       "1  DB00006                                          Echinacea\n",
       "2  DB00008                    Recommended adequate hydration.\n",
       "3  DB00011                                     Avoid alcohol.\n",
       "4  DB00034                                     Avoid alcohol."
      ]
     },
     "execution_count": 3,
     "metadata": {},
     "output_type": "execute_result"
    }
   ],
   "source": [
    "food_df.head()"
   ]
  },
  {
   "cell_type": "code",
   "execution_count": 4,
   "metadata": {},
   "outputs": [
    {
     "data": {
      "text/plain": [
       "['A food effect study conducted in patients with a single 4 mg dose of ixazomib showed that a high-fat meal decreased ixazomib AUC by 28% and Cmax by 69%.',\n",
       " 'A high fat meal may lower mean Cmax and increase mean AUC(0-∞) but these changes are not clinically significant. Take without regards to meals.',\n",
       " 'A high fat meal significantly increases Cmax but this effect is not clinically relevant. May take dalfampridine without regard to meals',\n",
       " 'A high-fat meal increased the extent and rate of naloxegol absorption. The Cmax and AUC were increased by approximately 30% and 45%, respectively. In clinical trials, naloxegol was dosed on an empty stomach approximately 1 hour prior to the first meal in the morning.',\n",
       " 'A mean delay in time to peak concentration of 2.5 hours is observed with the intake of a high-fat meal, with no significant differences in AUC.',\n",
       " 'Abacavir is partly metabolised through the alcohol-dehydrogenase enzyme system.',\n",
       " 'Absorption does not seem to be affected by milk or calcium carbonate, however, gatifloxacin bioavailability appears significantly reduced when combined with Ensure&trade; (C<sub>max</sub> is reduced by about 50% while total drug exposure (AUC) is reduced by about 25%).',\n",
       " 'Absorption increased in fasting state and decreased in malabsorption states.',\n",
       " 'Absorption is decreased by about 25% when taken with meals.',\n",
       " 'Absorption is increased by 40% if taken with food.',\n",
       " 'Absorption is increased when taken on an empty stomach (one hour before or two hours after meals).',\n",
       " 'Absorption is not affected by food.',\n",
       " 'Absorption of dronedarone increases 3-fold if taken with food especially if meal is high in fat content',\n",
       " 'Adequate calcium intake is recommended, needs increased with long term use, supplement recommended.',\n",
       " 'Administer on a regular basis, at about the same time each day.',\n",
       " 'Administration of iloperidone with a standard high-fat meal did not significantly affect the Cmax or AUC of iloperidone, P88, or P95, but delayed Tmax by 1 hour for iloperidone, 2 hours for P88 and 6 hours for P95.',\n",
       " 'Administration with a high-fat meal resulted in an increase in Tmax of saxagliptin by approximately 20 minutes as compared to fasted conditions. There was a 27% increase in the AUC of saxagliptin when given with a meal as compared to fasted conditions.',\n",
       " 'Administration with food increases ibrutinib exposure approximately 2-fold compared with administration after overnight fasting.',\n",
       " 'Administration with food reduces pharmacokinetic variability.',\n",
       " 'Administration with or without food has no effect.']"
      ]
     },
     "execution_count": 4,
     "metadata": {},
     "output_type": "execute_result"
    }
   ],
   "source": [
    "unique_interaction = food_df['description'].unique().tolist()\n",
    "sorted(unique_interaction)[:20]"
   ]
  },
  {
   "cell_type": "markdown",
   "metadata": {},
   "source": [
    "NOTE: Long descriptions won't be good for graphs"
   ]
  },
  {
   "cell_type": "markdown",
   "metadata": {},
   "source": [
    "We have 498 unique food interaction descriptions"
   ]
  },
  {
   "cell_type": "code",
   "execution_count": 10,
   "metadata": {},
   "outputs": [
    {
     "data": {
      "text/plain": [
       "498"
      ]
     },
     "execution_count": 10,
     "metadata": {},
     "output_type": "execute_result"
    }
   ],
   "source": [
    "len(unique_interaction)"
   ]
  },
  {
   "cell_type": "markdown",
   "metadata": {},
   "source": [
    "We have 1194 food interactions"
   ]
  },
  {
   "cell_type": "code",
   "execution_count": 49,
   "metadata": {},
   "outputs": [
    {
     "data": {
      "text/plain": [
       "(1194, 2)"
      ]
     },
     "execution_count": 49,
     "metadata": {},
     "output_type": "execute_result"
    }
   ],
   "source": [
    "food_df.shape"
   ]
  },
  {
   "cell_type": "markdown",
   "metadata": {},
   "source": [
    "Find similar strings with fuzzyWuzzy:"
   ]
  },
  {
   "cell_type": "code",
   "execution_count": 16,
   "metadata": {},
   "outputs": [
    {
     "data": {
      "text/plain": [
       "[('Avoid alcohol.', 70),\n",
       " ('Avoid alcohol', 70),\n",
       " (' Avoid alcohol.', 70),\n",
       " ('avoid alcohol ', 70),\n",
       " ('Ethanol', 43)]"
      ]
     },
     "execution_count": 16,
     "metadata": {},
     "output_type": "execute_result"
    }
   ],
   "source": [
    "process.extract('Alcohol', unique_interaction, scorer=fuzz.token_sort_ratio)"
   ]
  },
  {
   "cell_type": "code",
   "execution_count": 5,
   "metadata": {},
   "outputs": [],
   "source": [
    "res = [i for i in unique_interaction if \"Alcohol\" in i or \"alcohol\" in i] "
   ]
  },
  {
   "cell_type": "code",
   "execution_count": 6,
   "metadata": {},
   "outputs": [
    {
     "data": {
      "text/plain": [
       "['Avoid alcohol.',\n",
       " 'Alcohol may increase the vasodilatory effects of ramipril.',\n",
       " 'Avoid alcohol',\n",
       " 'Take with food to reduce irritation. Avoid alcohol.',\n",
       " 'Avoid excessive or chronic alcohol use.',\n",
       " 'Avoid alcohol (may increase CNS effects).',\n",
       " 'Avoid alcohol (may increase risk of hepatotoxicity).',\n",
       " 'Take without regard to meals. Avoid alcohol.',\n",
       " 'Take without regard to meals. Avoid alcohol. Usually diluted in fruit juice.',\n",
       " 'Alcohol increases clobazam absorption by 50%.',\n",
       " 'People taking this product who drink large amounts of alcohol are exposed to a higher risk of liver toxicity.',\n",
       " 'Take with food to reduce irritation, limit caffeine intake. Avoid alcohol.',\n",
       " 'Take with food. Avoid alcohol.',\n",
       " 'Avoid excessive or chronic alcohol consumption.',\n",
       " 'Avoid alcohol, especially with the oral solution since it contains propylene glycol which competes with alcohol for alcohol dehydrogenase metabolism.',\n",
       " 'Avoid alcohol for up to 14 days after treatment has been stopped.',\n",
       " 'Avoid alcohol. Avoid caffeine.',\n",
       " 'Avoid alcohol completely up to 2 months after discontinuation.',\n",
       " 'Avoid alcohol, alcohol appears to cause a 50 to 100% increases in ASA serum levels.',\n",
       " 'Take with food, usually once a day after breakfast. Food decreases the rate of absorption but not the amount absorbed. Avoid alcohol.',\n",
       " 'Increase liquid intake, avoid alcohol.',\n",
       " 'Preferably on an empty stomach, drink plenty of liquids, avoid alcohol.',\n",
       " 'Abacavir is partly metabolised through the alcohol-dehydrogenase enzyme system.',\n",
       " \"Alcohol significantly increases abacavir's area under the curve (about 41%).\",\n",
       " 'Food slows absorption a little. Avoid alcohol. Take after meals in order to minimize the risk of interaction with tyramine.',\n",
       " 'Food reduces availability, take 30 minutes before meals. Avoid alcohol.',\n",
       " 'Avoid alcohol (possible additive effect to CNS).',\n",
       " 'Alcohol may further decrease blood pressure and increase dizziness and drowsiness',\n",
       " 'Take without regard to meals, avoid tyramine, caffeine and alcohol.',\n",
       " 'Avoid alcohol as it can cause a disulfiram effect.',\n",
       " 'Avoid alcohol and caffeine.',\n",
       " 'Avoid alcohol since it increases uric acid levels.',\n",
       " 'Alcohol may enhance CNS depressant effects',\n",
       " 'Alcohol used in combination may enhance sedation or cause potentially fatal respiratory/cardiovascular depression.',\n",
       " 'Limit alcohol to a daily maximum of 1 drink (or equivalent) while using mipomersen sodium.',\n",
       " 'avoid alcohol']"
      ]
     },
     "execution_count": 6,
     "metadata": {},
     "output_type": "execute_result"
    }
   ],
   "source": [
    "res"
   ]
  },
  {
   "cell_type": "code",
   "execution_count": 7,
   "metadata": {},
   "outputs": [
    {
     "data": {
      "text/plain": [
       "36"
      ]
     },
     "execution_count": 7,
     "metadata": {},
     "output_type": "execute_result"
    }
   ],
   "source": [
    "len(res)"
   ]
  },
  {
   "cell_type": "code",
   "execution_count": 18,
   "metadata": {},
   "outputs": [],
   "source": [
    "import re"
   ]
  },
  {
   "cell_type": "code",
   "execution_count": 45,
   "metadata": {},
   "outputs": [],
   "source": [
    "short = [i for i in unique_interaction if len(re.findall(r'\\w+', i)) < 7] "
   ]
  },
  {
   "cell_type": "code",
   "execution_count": 46,
   "metadata": {},
   "outputs": [
    {
     "data": {
      "text/plain": [
       "['Echinacea',\n",
       " 'Recommended adequate hydration.',\n",
       " 'Avoid alcohol.',\n",
       " 'Inject subcutaneuosly 15 minutes before meal',\n",
       " 'Ethanol',\n",
       " 'Avoid salt substitutes containing potassium.',\n",
       " 'Take with food.',\n",
       " 'Avoid drastic changes in dietary habit.',\n",
       " 'Take without regard to meals.',\n",
       " 'Avoid high doses of caffeine.',\n",
       " 'Avoid alcohol',\n",
       " 'Take with food to reduce irritation.',\n",
       " 'Limit caffeine intake.',\n",
       " 'Folic acid needs increased.',\n",
       " 'Magnesium, potassium and zinc needs increased.',\n",
       " \"Avoid St.John's Wort.\",\n",
       " 'Avoid excessive or chronic alcohol use.',\n",
       " 'Avoid taking with grapefruit juice',\n",
       " 'Avoid taking with grapefruit juice.',\n",
       " 'Avoid alcohol (may increase CNS effects).',\n",
       " 'Avoid avocado.',\n",
       " 'Absorption is not affected by food.',\n",
       " 'Take with food to improve tolerance.',\n",
       " 'Avoid natural licorice.',\n",
       " 'Drink liberally.',\n",
       " 'Food reduces bioavailability.',\n",
       " 'Take on an empty stomach.',\n",
       " 'Take at the same time everyday.',\n",
       " 'Take with food (increases availability).',\n",
       " 'Do not take with milk.',\n",
       " 'Take with food, food reduces irritation.',\n",
       " 'Take 30-60 minutes before meals.',\n",
       " 'Alcohol increases clobazam absorption by 50%.',\n",
       " 'Drink liberally but avoid coffee.',\n",
       " 'Take with food to increase bioavailability.',\n",
       " 'Take 30-60 minutes before breakfast.',\n",
       " 'Take with food for faster absorption.',\n",
       " 'Best effect when taken with food.',\n",
       " 'Take with a glass of water.',\n",
       " 'Take with food. Avoid alcohol.',\n",
       " 'Milk appears to reduce its absorption.',\n",
       " 'May take Vitamin D.',\n",
       " 'Avoid milk and multivalent ions.',\n",
       " 'Avoid excessive or chronic alcohol consumption.',\n",
       " 'Avoid caffeine containing foods and drinks.',\n",
       " 'Lipid rich meals may improve absorption.',\n",
       " 'Take before breakfast.',\n",
       " 'Food reduces the rate of absorption.',\n",
       " 'Take 30 minutes before meal.',\n",
       " \"Avoid St. John's Wort.\",\n",
       " 'Caffeine increases absorption.',\n",
       " 'Vitamin E increases amprenavir bioavailability.',\n",
       " 'Dissolve under the tongue.',\n",
       " 'Take upto 30 minutes before meals.',\n",
       " 'Take with food to decrease nausea.',\n",
       " 'Increase liquid intake.',\n",
       " 'Drink plenty of liquids.',\n",
       " 'Food decreases Cmax slightly.',\n",
       " 'Avoid alcohol. Avoid caffeine.',\n",
       " 'Preferably take on an ampty stomach.',\n",
       " 'The absorption is unaffected by food.',\n",
       " 'Increases absorption, take with food.',\n",
       " 'Take with a meal.',\n",
       " 'Take with food, food increases bioavailability.',\n",
       " 'Food markedly increases product bioavailability.',\n",
       " 'Increase liquid intake, avoid alcohol.',\n",
       " 'Increased absorption- take with meals.',\n",
       " 'Avoid sugar and sugary food.',\n",
       " 'Administration with food reduces pharmacokinetic variability.',\n",
       " 'Food increases product absorption.',\n",
       " 'Food slightly increases product bioavailability.',\n",
       " 'Take with low fat meal.',\n",
       " 'Take with food to decrease dyspepsia.',\n",
       " 'Take with food to increase absorption.',\n",
       " 'Fatty foods increase absorption.',\n",
       " 'Food may reduce irritation.',\n",
       " 'Take after a full meal.',\n",
       " 'Take with meals.',\n",
       " 'Vitamin B6 needs increased, supplement recommended.',\n",
       " 'Avoid echinacea.',\n",
       " 'Take 30 minutes before meals.',\n",
       " 'Take with food to reduce nausea.',\n",
       " 'Take with food - better absorption (+30%).',\n",
       " 'No food effects found.',\n",
       " 'Vitamin E increases fosamprenavir bioavailability.',\n",
       " 'Avoid calcium, magnesium and potassium.',\n",
       " 'Avoid iodine supplements.',\n",
       " 'Avoid alcohol and caffeine.',\n",
       " 'Ethanol use may increase CNS depression.',\n",
       " 'Alcohol may enhance CNS depressant effects',\n",
       " 'Take with food. Food increases availability.',\n",
       " 'Take with food to reduce irritation',\n",
       " 'Take with food to decrease irritation',\n",
       " 'Take with food to avoid irritation',\n",
       " 'Take with food to decrease nausea',\n",
       " 'Avoid excessive coffee or tea (caffeine)',\n",
       " 'Take without regard to meals',\n",
       " 'Take after a meal.',\n",
       " 'Grapefruit Juice',\n",
       " 'Crofelemer is not affected by food.',\n",
       " 'Take with food',\n",
       " 'No food effects were found.',\n",
       " 'Avoid grapefruit juice.',\n",
       " 'Simeprevir should be taken with food.',\n",
       " 'avoid alcohol',\n",
       " \"St. John's Wort\",\n",
       " 'Take with or without food.',\n",
       " 'Not affected by food.',\n",
       " 'Take with food. Drink liberally.',\n",
       " 'Gingko bilboa',\n",
       " 'Nutrition/Herbal interaction',\n",
       " 'No known food interactions.',\n",
       " 'Food does not affect absorption.',\n",
       " 'Take with or without food',\n",
       " 'No food effects.',\n",
       " 'Take without regards to meals',\n",
       " 'Echinacea: diminished therapeutic effect of immunosuppressants']"
      ]
     },
     "execution_count": 46,
     "metadata": {},
     "output_type": "execute_result"
    }
   ],
   "source": [
    "short"
   ]
  },
  {
   "cell_type": "markdown",
   "metadata": {},
   "source": [
    "**Finding:** redundant descriptions which should be deleted: 'No food effects.', 'No known food interactions.', 'No food effects were found.', 'No food effects found.', 'Food does not affect absorption.', 'Not affected by food.', 'Crofelemer is not affected by food.'"
   ]
  },
  {
   "cell_type": "code",
   "execution_count": 33,
   "metadata": {},
   "outputs": [],
   "source": [
    "multipleSentences = [i for i in unique_interaction if \". \" in i]"
   ]
  },
  {
   "cell_type": "code",
   "execution_count": 34,
   "metadata": {},
   "outputs": [
    {
     "data": {
      "text/plain": [
       "['Delayed release capsules should not be broken or crushed, but for those patients who cannot swallow the capsules, sprinkle the contents of the capsule onto soft acidic foods (pH of ≤4.5). Alkaline foods with a higher pH will promote early release of pancrelipase followed by enzyme inactivation in the stomach.   ',\n",
       " 'Alcohol may increase the vasodilatory effects of ramipril. ',\n",
       " 'Herbs that may attenuate the antihypertensive effect of ramipril include: bayberry, blue cohash, cayenne, ephedra, ginger, ginseng (American), kola and licorice.  ',\n",
       " 'High salt intake may attenuate the antihypertensive effect of ramipril. ',\n",
       " 'Ramipril decreases the excretion of potassium. Salt substitutes containing potassium increase the risk of hyperkalemia. ',\n",
       " 'Citrus fruits - Patients should avoid taking extra vitamin C (ascorbic acid) supplements and vitamin C-containing multi-vitamins during their bortezomib therapy. Ascorbic Acid may diminish the therapeutic effect of Bortezomib.',\n",
       " 'Green Tea - Green Tea may diminish the antineoplastic effect of Bortezomib. Avoid concurrent use of green tea extract and other green tea products during treatment with bortezomib. ',\n",
       " 'Take without regard to meals. Food may improve gastric tolerance.',\n",
       " 'Take with food to reduce irritation. Avoid alcohol.',\n",
       " 'High fat meals will increase ticlopidine absorption. As well, food can help ticlopidine-induced stomach upset.',\n",
       " 'Take without regard to meals. Drink liberally. Absorption is not affected by lipid-rich meals or yogourt.',\n",
       " 'When taken with food, Cmax decreases, while Tmax is prolonged. Despite these observations, the total absorption of pregabalin is not effected to a clinically relevant degree. Pregabalin can be taken with or without food. ',\n",
       " 'Echinacea should be used with caution, if at all, in patients receiving therapeutic immunosuppressants. Monitor for reduced efficacy of the immunosuppressant during concomitant use. ',\n",
       " 'Following a single dose of the extended-release formulation with a high fat meal, Cmax of topiramate increased by 37% and shortened the Tmax to approximately 8 hours. AUC was not effected. According to the FDA label, Trokendi XR can be taken without regard to food.',\n",
       " 'Herbs and food with anticoagulant/antiplatelet activity. Major interactions may occur with danshen, dong quai, evening primrose oil, gingko, policosanol, willow bark',\n",
       " 'Echinacea should be used with caution, if at all, in patients receiving therapeutic immunosuppressants. Monitor for reduced efficacy of the immunosuppressant during concomitant use.',\n",
       " 'When given with a high-fat meal, the oral bioavailability, AUC, and Cmax increased. ',\n",
       " 'Take without regard to meals. Avoid alcohol.',\n",
       " 'Take without regard to meals. Avoid alcohol. Usually diluted in fruit juice.',\n",
       " 'Grapefruit down regulates post-translational expression of CYP3A4, the major metabolizing enzyme of amlodipine. Grapefruit, in all forms (e.g. whole fruit, juice and rind), can significantly increase serum levels of amlodipine and may cause toxicity. Avoid grapefruit products while on this medication. ',\n",
       " 'Grapefruit down regulates post-translational expression of CYP3A4, the major metabolizing enzyme of nimodipine. Grapefruit, in all forms (e.g. whole fruit, juice and rind), can significantly increase serum levels of nimodipine and may cause toxicity. Avoid grapefruit products while on this medication.',\n",
       " 'Food increases the bioavailability of spironolactone by almost 100%. ',\n",
       " 'Spironolactone may decrease the excretion of potassium. Salt substitutes containing potassium increase the risk of hyperkalemia.',\n",
       " 'Take on an empty stomach. Food reduces Cmax by 50 to 60%.',\n",
       " 'Oral administration with infant soybean formula, soybean flour, cotton seed meal, walnuts, foods containing large amounts of fiber, ferrous sulfate, and antacids may decrease drug absorption. ',\n",
       " 'Take with food, at beginning of each meal. Iron needs increased.',\n",
       " 'Fosinopril may decrease the excretion of potassium. Salt substitutes containing potassium may increase the risk of hyperkalemia. ',\n",
       " 'Herbs that may attenuate the antihypertensive effect of fosinopril include: bayberry, blue cohash, cayenne, ephedra, ginger, ginseng (American), kola and licorice. ',\n",
       " 'High salt intake may attenuate the antihypertensive effect of fosinopril. ',\n",
       " 'Take with food to reduce irritation, limit caffeine intake. Avoid alcohol.',\n",
       " 'Herbs that may attenuate the antihypertensive effect of trandolapril include: bayberry, blue cohash, cayenne, ephedra, ginger, ginseng (American), kola and licorice.  ',\n",
       " 'High salt intake may attenuate the antihypertensive effect of trandolapril. ',\n",
       " 'Trandolapril may decrease the excretion of potassium. Salt substitutes containing potassium may increase the risk of hyperkalemia. ',\n",
       " 'Benazepril may decrease the excretion of potassium. Salt um may increase the risk of hyperkalemia. substitutes containing potassi',\n",
       " 'Herbs that may attenuate the antihypertensive effect of benazepril include: bayberry, blue cohash, cayenne, ephedra, ginger, ginseng (American), kola and licorice. ',\n",
       " 'Take with food. Avoid alcohol.',\n",
       " 'Take without regard to meals. Limit caffeine intake.',\n",
       " 'Take without regard to meals. Drink liberally.',\n",
       " 'Enalapril decreases the excretion of potassium. Salt substitutes containing potassium increase the risk of hyperkalemia. ',\n",
       " 'Herbs that may attenuate the antihypertensive effect of enalapril include: bayberry, blue cohash, cayenne, ephedra, ginger, ginseng (American), kola and licorice.  ',\n",
       " 'Take with food to reduce the incidence of gastric irritation. Follow with a large glass of water. A lipid rich meal will slightly reduce and delay absorption. Avoid grapefruit and grapefruit juice throughout treatment, grapefruit can significantly increase serum levels of this product.',\n",
       " 'Grapefruit and grapefruit juice should be avoided throughout treatment. Grapefruit can increase serum levels of this product.',\n",
       " 'When Rayos, the delayed-release tablet, is taken without food, Cmax and bioavailability were lower compared to the fed state. ',\n",
       " 'Food decreases the rate and extent of absorption. ',\n",
       " 'Take without regard to meals. Take at same time each day. Food delays absorption, but does not affect the extent of absorption.',\n",
       " \"Avoid St. John's Wort.\",\n",
       " 'Consult your doctor before ingesting large amounts of dietary Vitamin K (e.g. from green leafy vegetables).',\n",
       " 'Herbs that may attenuate the antihypertensive effect of moexipril include: bayberry, blue cohash, cayenne, ephedra, ginger, ginseng (American), kola and licorice. ',\n",
       " 'High salt intake may attenuate the antihypertensive effect of moexipril.  ',\n",
       " 'Moexipril may decrease the excretion of potassium. Salt substitutes containing potassium may increase the risk of hyperkalemia. ',\n",
       " 'Take moexipril one hour before or two hours after meals. ',\n",
       " 'Take 30 minutes after a meal (always after the same meal). Taking the drug with food minimizes plasma levels variations.',\n",
       " 'Take without regard to meals. Food does not decrease the extent of absorption, but it decreases the Cmax by slowing the rate of absorption.',\n",
       " 'Take on an empty stomach. All foods markedly reduce (up to 90%) ibandronate bioavailabilty. Take with plain water (not mineralized) at least 1 hour before any food. Bioavailability and effect on bone density are both impaired if the patient eats or drinks in less than 1 hour after taking this product. Drink a large glass of water and stay in an upright position for at least 60 minutes after taking this product.',\n",
       " 'Food decreases absorption. Take on an empty stomach.',\n",
       " 'Herbs that may attenuate the antihypertensive effect of lisinopril include: bayberry, blue cohash, cayenne, ephedra, ginger, ginseng (American), kola and licorice. ',\n",
       " 'Lisinopril decreases the excretion of potassium. Salt substitutes containing potassium increase the risk of hyperkalemia. ',\n",
       " 'Take with food to reduce irritation. Calcium, phosphorous, potassium, Vitamin A, C, D and zinc needs increased with long term use.',\n",
       " 'Food increases the time to peak concentration of regular release oral formulations by 1.4 to 3.8 hours with no effect on extent of absorption. ',\n",
       " 'Take with food to reduce irritation. Drink liberally.',\n",
       " 'Herbs that may attenuate the antihypertensive effect of perindopril include: bayberry, blue cohash, cayenne, ephedra, ginger, ginseng (American), kola and licorice. ',\n",
       " 'Perindopril may decrease the excretion of potassium. Salt substitutes containing potassium may increase the risk of hyperkalemia. ',\n",
       " 'Take with food to reduce irritation. Limit caffeine intake.',\n",
       " 'Take without regard to meals. Magnesium, potassium and zinc needs increased.',\n",
       " 'Take without regard to meals. Increase liquid intake.',\n",
       " 'Avoid alcohol. Avoid caffeine.',\n",
       " 'Food slightly delays rate of absorption with no effect on extent of absorption. ',\n",
       " 'The time of the meal affects tacrolimus bioavailability. Take tacrolimus capsules consistently everyday either with or without food. ',\n",
       " 'Herbs that may attenuate the antihypertensive effect of quinapril include: bayberry, blue cohash, cayenne, ephedra, ginger, ginseng (American), kola and licorice. ',\n",
       " 'Quinapril may decrease the excretion of potassium. Salt substitutes containing potassium may increase the risk of hyperkalemia. ',\n",
       " 'Take without regard to meals. Absorption is faster on an empty stomach.',\n",
       " 'Take with food, usually once a day after breakfast. Food decreases the rate of absorption but not the amount absorbed. Avoid alcohol.',\n",
       " 'Take without regard to meals. Food slows absorption without decreasing the quantity absorbed.',\n",
       " 'Food prolongs rate of absorption and decreases peak plasma concentration. Extent of absorption is not affected. ',\n",
       " 'Grapefruit down regulates post-translational expression of CYP3A4, the major metabolizing enzyme of nifedipine. Grapefruit, in all forms (e.g. whole fruit, juice and rind), can significantly increase serum levels of nifedipine and may cause toxicity. Avoid grapefruit products while on this medication. ',\n",
       " 'Take on an empty stomach. Food decreases bioavailabilty by approximately 30%. Increase liquid intake.',\n",
       " 'Food delays the time to reach peak plasma concentrations by 30-60 minutes and reduces peak plasma concentrations by 30-50%. Extent of absorption is unaffected.',\n",
       " 'Take on an empty stomach. Drink liberally.',\n",
       " 'Antacids may reduce the serum concentration of cefditoren. Consider alternative methods to minimize/control acid reflux. If use of antacids cannot be avoided, separate administration by at least several hours to reduce chance of interaction',\n",
       " 'Avoid taking grapefruit or grapefruit juice throughout treatment. Grapefruit can significantly increase serum levels of this product.',\n",
       " 'Avoid aluminium, calcium, iron and magnesium within 2 hours of taking medication. ',\n",
       " 'Take on an empty stomach with a full glass of water. ',\n",
       " 'Take with meals, or upto 1 hour after a meal. If patient misses a meal, or has a fat-free meal, he/she may skip the corresponding dose.',\n",
       " 'Many herbs with anticoagulant properties (e.g. ginger, garlic, ginseng, green tea, evening primrose) may increase the risk of bleeding in patients on anticoagulant therapy such as heparin',\n",
       " 'Grapefruit down-regulates post-translational expression of CYP3A4, the major metabolizing enzyme of nifedipine. Grapefruit, in all forms (e.g. whole fruit, juice and rind), can significantly increase serum levels of nifedipine and may cause toxicity. Avoid grapefruit products while on this medication. ',\n",
       " 'Take without regard to meals. A consistent diet is recommended to reduce the risk of hypoglycemia.',\n",
       " 'Take without regard to meals. Food may slow absorption rate but extent of absorption is not affected.',\n",
       " 'Take without regard to meals. Food slightly delays absorption rate but extent of absorption is not affected.',\n",
       " 'Do not take aluminum or magnesium-containing antacids within 2 hours of taking tiludronate. ',\n",
       " 'Take on an empty stomach (at least 2 hours before or after meals) with a full glass of plain water. Other beverages may reduce drug absorption. ',\n",
       " 'Take without regard to meals. Take with water, drink lliberally. Taking this product with orange juice can result in reduced quinolone plasma levels. ',\n",
       " 'Food slows absorption a little. Avoid alcohol. Take after meals in order to minimize the risk of interaction with tyramine.',\n",
       " 'Captopril decreases the excretion of potassium. Salt substitutes containing potassium increase the risk of hyperkalemia. ',\n",
       " 'Food decreases absorption by 25 - 40%. Clinical significance is debatable. ',\n",
       " 'Herbs that may attenuate the antihypertensive effect of captopril include: bayberry, blue cohash, cayenne, ephedra, ginger, ginseng (American), kola and licorice. ',\n",
       " 'High salt intake may attenuate the antihypertensive effect of captopril. ',\n",
       " 'Take without regard to meals. Food does not affect bioavailabilty.',\n",
       " 'Take on an empty stomach, bioavailability is 6 times higher when drug is taken with high fat meals. Risks of cardiac toxicity are then increased.',\n",
       " 'Avoid grapefruit and grapefruit juice due to potential increase of paclitaxel. ',\n",
       " 'Food reduces availability, take 30 minutes before meals. Avoid alcohol.',\n",
       " 'Take with food - better absorption (+30%). ',\n",
       " 'Take with or without food. Food has no effect on the absorption of the product.',\n",
       " 'Herbs that may attenuate the antihypertensive effect of spirapril include: bayberry, blue cohash, cayenne, ephedra, ginger, ginseng (American), kola and licorice. ',\n",
       " 'Spirapril may decrease the excretion of potassium. Salt substitutes containing potassium may increase the risk of hyperkalemia. ',\n",
       " 'Take with food to reduce irritation. Drink plenty of liquids.',\n",
       " 'Food reduces the rate of absorption, but not the extent of absorption. ',\n",
       " 'High doses of vitamin A, C, E and K (e.g. avocado, green vegetables)',\n",
       " 'Ethanol use may increase CNS depression. ',\n",
       " 'Iron and calcium may interfere with absorption. Space doses at least one hour before or after iron or calcium intake. ',\n",
       " 'Take with food. Food increases availability.',\n",
       " 'Do not take dronedarone with grapefruit juice. Grapefruit juice is a potent CYP3A4 inhibitor which will increase serum concentrations of dronedarone threefold',\n",
       " 'Homoharringtonine is administered subcutaneously, so food should have no effects. ',\n",
       " ' Administration of iloperidone with a standard high-fat meal did not significantly affect the Cmax or AUC of iloperidone, P88, or P95, but delayed Tmax by 1 hour for iloperidone, 2 hours for P88 and 6 hours for P95. ',\n",
       " 'With a high-fat meal, Cmax is moderately increased. ',\n",
       " \"St. John's wort is a CYP3A4 inducer which will decrease levels of telaprevir.\",\n",
       " 'Food and high fat meals increases the drug exposure 4.4-fold. It is suggested that abiraterone is taken on an empty stomach. ',\n",
       " 'Food increases the AUC and Cmax of tapentadol. Despite this, tapentadol can be given without regards to food.',\n",
       " 'Food should be taken with the 15 mg and 20 mg tablet. Food increases the bioavailability of the 20 mg dose.',\n",
       " \"St. John's Wort is a CYP3A4 inducer and will decrease levels of rivaroxaban\",\n",
       " 'Administration with a high-fat meal resulted in an increase in Tmax of saxagliptin by approximately 20 minutes as compared to fasted conditions. There was a 27% increase in the AUC of saxagliptin when given with a meal as compared to fasted conditions.',\n",
       " 'Bioavailability increases with food. Take pazopanib on empty stomach. ',\n",
       " \"St. John's wort will likely decrease apixaban serum concentration. Avoid combination if possible.\",\n",
       " 'Avoid combination with strong CYP3A4 inhibitors such as grapefruit juice due to the likely increased levels of axitinib. If the combination cannot be avoided, reduce axitinib dose by 50%.',\n",
       " 'A high fat meal significantly increases Cmax but this effect is not clinically relevant. May take dalfampridine without regard to meals ',\n",
       " \"St. John's Wort\",\n",
       " 'Take with food as food increases the absorption of artemether and lumefantrine. ',\n",
       " 'Food increases the absorption of calcium carbonate. ',\n",
       " 'Take with food. Drink liberally.',\n",
       " 'When taken with food, there is a two-fold increase in exposure and  time to maximal concentration is increased by 0.5-1.5 hours. ',\n",
       " 'Exposure increases 2- to 4- fold when given with a high fat meal. It is recommended that ivacaftor be given this way. ',\n",
       " 'Avoid taking pitavastatin with red yeast rice. May increase risk of myopathy of pitavastatin via pharmacodynamic synergism. Red yeast rice contain monocolin K (similar to lovastatin) ',\n",
       " \"Co-administration with St. John's wort decreases levels of rilpivirine by inducing CYP3A4 metabolism. Use is contraindicated. \",\n",
       " 'When given with a high-fat meal, AUC and Cmax were reduced by 14%. Despite this, crizotinib may be given with or without food.  ',\n",
       " 'A high fat meal may lower mean Cmax and increase mean AUC(0-∞) but these changes are not clinically significant. Take without regards to meals. ',\n",
       " 'Food increases the exposure of boceprevir by up to 65%. However, bioavailability is not affected and thus can be taken without regards to meals.',\n",
       " 'Food decreases Cmax of fidaxomicin and its metabolites however this is not considered clinically significant. ',\n",
       " 'Avoid grapefruit juice. Combination may increase levels of cabozantinib. Also avoid all other strong CYP3A4 inhibitors.',\n",
       " 'Even when taken with food, linaclotide does not reach detectable levels in the plasma. However, when taken with a high fat meal, one may observe looser stools and a higher stool frequency.',\n",
       " 'When taken with meals, levels of mirabegron decreased. Furthermore, the magnitude of this effect was greater if taken with a low fat meal, rather than a high fat meal. Despite these findings, dose adjustment is not required.',\n",
       " 'Food does not affect the pharmacokinetics of dimethyl fumarate, but it may reduce dimethyl fumarate induced GI upset and flushing. ',\n",
       " 'When taken with a high-fat, high-calorie meal, AUC and Cmax decreased. Tmax was also prolonged compared to fasted conditions.',\n",
       " 'When taken with a fatty meal, Cmax and AUC decreased. Tmax is also prolonged compared to the fasted condition.',\n",
       " 'When given with a high-fat meal, Cmax decreases by 50% and AUC by 39% relative to the fasted state. ',\n",
       " 'A high-fat meal increased the extent and rate of naloxegol absorption. The Cmax and AUC were increased by approximately 30% and 45%, respectively. In clinical trials, naloxegol was dosed on an empty stomach approximately 1 hour prior to the first meal in the morning.',\n",
       " 'Grapefruit juice may increase ivabradine exposure by twofold (due to its inhibition of CYP3A4). Therefore grapefruit juice consumption is not recommended while taking ivabradine.']"
      ]
     },
     "execution_count": 34,
     "metadata": {},
     "output_type": "execute_result"
    }
   ],
   "source": [
    "multipleSentences"
   ]
  },
  {
   "cell_type": "markdown",
   "metadata": {},
   "source": [
    "## II. Sentence extraction"
   ]
  },
  {
   "cell_type": "markdown",
   "metadata": {},
   "source": [
    "Some descriptions contain multiple sentences. In this section, I split each description into separate sentences in the dataset and added them as new rows with the corresponding drug id. In the previous steps I also identified some useless data which I also eliminated (ex. 'No food effects.', 'No known food interactions.'). Finally, I exported the cleaned data to a new csv file."
   ]
  },
  {
   "cell_type": "code",
   "execution_count": 16,
   "metadata": {},
   "outputs": [],
   "source": [
    "from nltk.tokenize.punkt import PunktSentenceTokenizer, PunktParameters"
   ]
  },
  {
   "cell_type": "code",
   "execution_count": 17,
   "metadata": {},
   "outputs": [],
   "source": [
    "punkt_param = PunktParameters()\n",
    "abbreviation = ['e.g']\n",
    "punkt_param.abbrev_types = set(abbreviation)\n",
    "tokenizer = PunktSentenceTokenizer(punkt_param)"
   ]
  },
  {
   "cell_type": "code",
   "execution_count": 18,
   "metadata": {},
   "outputs": [],
   "source": [
    "new_df = food_df.copy()\n",
    "new_df['description_list'] = new_df.apply (lambda row: tokenizer.tokenize(row['description']), axis=1)"
   ]
  },
  {
   "cell_type": "code",
   "execution_count": 19,
   "metadata": {},
   "outputs": [
    {
     "data": {
      "text/html": [
       "<div>\n",
       "<style scoped>\n",
       "    .dataframe tbody tr th:only-of-type {\n",
       "        vertical-align: middle;\n",
       "    }\n",
       "\n",
       "    .dataframe tbody tr th {\n",
       "        vertical-align: top;\n",
       "    }\n",
       "\n",
       "    .dataframe thead th {\n",
       "        text-align: right;\n",
       "    }\n",
       "</style>\n",
       "<table border=\"1\" class=\"dataframe\">\n",
       "  <thead>\n",
       "    <tr style=\"text-align: right;\">\n",
       "      <th></th>\n",
       "      <th>drug_id</th>\n",
       "      <th>description</th>\n",
       "      <th>description_list</th>\n",
       "    </tr>\n",
       "  </thead>\n",
       "  <tbody>\n",
       "    <tr>\n",
       "      <th>0</th>\n",
       "      <td>DB00006</td>\n",
       "      <td>Dan shen, dong quai, evening primrose oil, gin...</td>\n",
       "      <td>[Dan shen, dong quai, evening primrose oil, gi...</td>\n",
       "    </tr>\n",
       "    <tr>\n",
       "      <th>1</th>\n",
       "      <td>DB00006</td>\n",
       "      <td>Echinacea</td>\n",
       "      <td>[Echinacea]</td>\n",
       "    </tr>\n",
       "    <tr>\n",
       "      <th>2</th>\n",
       "      <td>DB00008</td>\n",
       "      <td>Recommended adequate hydration.</td>\n",
       "      <td>[Recommended adequate hydration.]</td>\n",
       "    </tr>\n",
       "    <tr>\n",
       "      <th>3</th>\n",
       "      <td>DB00011</td>\n",
       "      <td>Avoid alcohol.</td>\n",
       "      <td>[Avoid alcohol.]</td>\n",
       "    </tr>\n",
       "    <tr>\n",
       "      <th>4</th>\n",
       "      <td>DB00034</td>\n",
       "      <td>Avoid alcohol.</td>\n",
       "      <td>[Avoid alcohol.]</td>\n",
       "    </tr>\n",
       "  </tbody>\n",
       "</table>\n",
       "</div>"
      ],
      "text/plain": [
       "   drug_id                                        description  \\\n",
       "0  DB00006  Dan shen, dong quai, evening primrose oil, gin...   \n",
       "1  DB00006                                          Echinacea   \n",
       "2  DB00008                    Recommended adequate hydration.   \n",
       "3  DB00011                                     Avoid alcohol.   \n",
       "4  DB00034                                     Avoid alcohol.   \n",
       "\n",
       "                                    description_list  \n",
       "0  [Dan shen, dong quai, evening primrose oil, gi...  \n",
       "1                                        [Echinacea]  \n",
       "2                  [Recommended adequate hydration.]  \n",
       "3                                   [Avoid alcohol.]  \n",
       "4                                   [Avoid alcohol.]  "
      ]
     },
     "execution_count": 19,
     "metadata": {},
     "output_type": "execute_result"
    }
   ],
   "source": [
    "new_df.head()"
   ]
  },
  {
   "cell_type": "code",
   "execution_count": 20,
   "metadata": {},
   "outputs": [],
   "source": [
    "del new_df['description']"
   ]
  },
  {
   "cell_type": "code",
   "execution_count": 21,
   "metadata": {},
   "outputs": [
    {
     "data": {
      "text/html": [
       "<div>\n",
       "<style scoped>\n",
       "    .dataframe tbody tr th:only-of-type {\n",
       "        vertical-align: middle;\n",
       "    }\n",
       "\n",
       "    .dataframe tbody tr th {\n",
       "        vertical-align: top;\n",
       "    }\n",
       "\n",
       "    .dataframe thead th {\n",
       "        text-align: right;\n",
       "    }\n",
       "</style>\n",
       "<table border=\"1\" class=\"dataframe\">\n",
       "  <thead>\n",
       "    <tr style=\"text-align: right;\">\n",
       "      <th></th>\n",
       "      <th>drug_id</th>\n",
       "      <th>description_list</th>\n",
       "    </tr>\n",
       "  </thead>\n",
       "  <tbody>\n",
       "    <tr>\n",
       "      <th>0</th>\n",
       "      <td>DB00006</td>\n",
       "      <td>[Dan shen, dong quai, evening primrose oil, gi...</td>\n",
       "    </tr>\n",
       "    <tr>\n",
       "      <th>1</th>\n",
       "      <td>DB00006</td>\n",
       "      <td>[Echinacea]</td>\n",
       "    </tr>\n",
       "    <tr>\n",
       "      <th>2</th>\n",
       "      <td>DB00008</td>\n",
       "      <td>[Recommended adequate hydration.]</td>\n",
       "    </tr>\n",
       "    <tr>\n",
       "      <th>3</th>\n",
       "      <td>DB00011</td>\n",
       "      <td>[Avoid alcohol.]</td>\n",
       "    </tr>\n",
       "    <tr>\n",
       "      <th>4</th>\n",
       "      <td>DB00034</td>\n",
       "      <td>[Avoid alcohol.]</td>\n",
       "    </tr>\n",
       "    <tr>\n",
       "      <th>...</th>\n",
       "      <td>...</td>\n",
       "      <td>...</td>\n",
       "    </tr>\n",
       "    <tr>\n",
       "      <th>1189</th>\n",
       "      <td>DB09049</td>\n",
       "      <td>[A high-fat meal increased the extent and rate...</td>\n",
       "    </tr>\n",
       "    <tr>\n",
       "      <th>1190</th>\n",
       "      <td>DB09053</td>\n",
       "      <td>[Administration with food increases ibrutinib ...</td>\n",
       "    </tr>\n",
       "    <tr>\n",
       "      <th>1191</th>\n",
       "      <td>DB09083</td>\n",
       "      <td>[Grapefruit juice may increase ivabradine expo...</td>\n",
       "    </tr>\n",
       "    <tr>\n",
       "      <th>1192</th>\n",
       "      <td>DB09570</td>\n",
       "      <td>[A food effect study conducted in patients wit...</td>\n",
       "    </tr>\n",
       "    <tr>\n",
       "      <th>1193</th>\n",
       "      <td>DB11575</td>\n",
       "      <td>[Relative to fasting conditions, the administr...</td>\n",
       "    </tr>\n",
       "  </tbody>\n",
       "</table>\n",
       "<p>1194 rows × 2 columns</p>\n",
       "</div>"
      ],
      "text/plain": [
       "      drug_id                                   description_list\n",
       "0     DB00006  [Dan shen, dong quai, evening primrose oil, gi...\n",
       "1     DB00006                                        [Echinacea]\n",
       "2     DB00008                  [Recommended adequate hydration.]\n",
       "3     DB00011                                   [Avoid alcohol.]\n",
       "4     DB00034                                   [Avoid alcohol.]\n",
       "...       ...                                                ...\n",
       "1189  DB09049  [A high-fat meal increased the extent and rate...\n",
       "1190  DB09053  [Administration with food increases ibrutinib ...\n",
       "1191  DB09083  [Grapefruit juice may increase ivabradine expo...\n",
       "1192  DB09570  [A food effect study conducted in patients wit...\n",
       "1193  DB11575  [Relative to fasting conditions, the administr...\n",
       "\n",
       "[1194 rows x 2 columns]"
      ]
     },
     "execution_count": 21,
     "metadata": {},
     "output_type": "execute_result"
    }
   ],
   "source": [
    "new_df"
   ]
  },
  {
   "cell_type": "code",
   "execution_count": 22,
   "metadata": {},
   "outputs": [],
   "source": [
    "import numpy as np"
   ]
  },
  {
   "cell_type": "code",
   "execution_count": 23,
   "metadata": {},
   "outputs": [],
   "source": [
    "lst_col = 'description_list'\n",
    "split_df = pd.DataFrame({     \n",
    "    col:np.repeat(new_df[col].values, new_df[lst_col].str.len())\n",
    "    for col in new_df.columns.difference([lst_col])\n",
    "    }).assign(**{lst_col:np.concatenate(new_df[lst_col].values)})[new_df.columns.tolist()]"
   ]
  },
  {
   "cell_type": "code",
   "execution_count": 24,
   "metadata": {},
   "outputs": [
    {
     "data": {
      "text/html": [
       "<div>\n",
       "<style scoped>\n",
       "    .dataframe tbody tr th:only-of-type {\n",
       "        vertical-align: middle;\n",
       "    }\n",
       "\n",
       "    .dataframe tbody tr th {\n",
       "        vertical-align: top;\n",
       "    }\n",
       "\n",
       "    .dataframe thead th {\n",
       "        text-align: right;\n",
       "    }\n",
       "</style>\n",
       "<table border=\"1\" class=\"dataframe\">\n",
       "  <thead>\n",
       "    <tr style=\"text-align: right;\">\n",
       "      <th></th>\n",
       "      <th>drug_id</th>\n",
       "      <th>description_list</th>\n",
       "    </tr>\n",
       "  </thead>\n",
       "  <tbody>\n",
       "    <tr>\n",
       "      <th>0</th>\n",
       "      <td>DB00006</td>\n",
       "      <td>Dan shen, dong quai, evening primrose oil, gin...</td>\n",
       "    </tr>\n",
       "    <tr>\n",
       "      <th>1</th>\n",
       "      <td>DB00006</td>\n",
       "      <td>Echinacea</td>\n",
       "    </tr>\n",
       "    <tr>\n",
       "      <th>2</th>\n",
       "      <td>DB00008</td>\n",
       "      <td>Recommended adequate hydration.</td>\n",
       "    </tr>\n",
       "    <tr>\n",
       "      <th>3</th>\n",
       "      <td>DB00011</td>\n",
       "      <td>Avoid alcohol.</td>\n",
       "    </tr>\n",
       "    <tr>\n",
       "      <th>4</th>\n",
       "      <td>DB00034</td>\n",
       "      <td>Avoid alcohol.</td>\n",
       "    </tr>\n",
       "    <tr>\n",
       "      <th>...</th>\n",
       "      <td>...</td>\n",
       "      <td>...</td>\n",
       "    </tr>\n",
       "    <tr>\n",
       "      <th>1342</th>\n",
       "      <td>DB09053</td>\n",
       "      <td>Administration with food increases ibrutinib e...</td>\n",
       "    </tr>\n",
       "    <tr>\n",
       "      <th>1343</th>\n",
       "      <td>DB09083</td>\n",
       "      <td>Grapefruit juice may increase ivabradine expos...</td>\n",
       "    </tr>\n",
       "    <tr>\n",
       "      <th>1344</th>\n",
       "      <td>DB09083</td>\n",
       "      <td>Therefore grapefruit juice consumption is not ...</td>\n",
       "    </tr>\n",
       "    <tr>\n",
       "      <th>1345</th>\n",
       "      <td>DB09570</td>\n",
       "      <td>A food effect study conducted in patients with...</td>\n",
       "    </tr>\n",
       "    <tr>\n",
       "      <th>1346</th>\n",
       "      <td>DB11575</td>\n",
       "      <td>Relative to fasting conditions, the administra...</td>\n",
       "    </tr>\n",
       "  </tbody>\n",
       "</table>\n",
       "<p>1347 rows × 2 columns</p>\n",
       "</div>"
      ],
      "text/plain": [
       "      drug_id                                   description_list\n",
       "0     DB00006  Dan shen, dong quai, evening primrose oil, gin...\n",
       "1     DB00006                                          Echinacea\n",
       "2     DB00008                    Recommended adequate hydration.\n",
       "3     DB00011                                     Avoid alcohol.\n",
       "4     DB00034                                     Avoid alcohol.\n",
       "...       ...                                                ...\n",
       "1342  DB09053  Administration with food increases ibrutinib e...\n",
       "1343  DB09083  Grapefruit juice may increase ivabradine expos...\n",
       "1344  DB09083  Therefore grapefruit juice consumption is not ...\n",
       "1345  DB09570  A food effect study conducted in patients with...\n",
       "1346  DB11575  Relative to fasting conditions, the administra...\n",
       "\n",
       "[1347 rows x 2 columns]"
      ]
     },
     "execution_count": 24,
     "metadata": {},
     "output_type": "execute_result"
    }
   ],
   "source": [
    "split_df"
   ]
  },
  {
   "cell_type": "code",
   "execution_count": 25,
   "metadata": {},
   "outputs": [],
   "source": [
    "split_df.rename(columns = {'description_list':'description'}, inplace = True)"
   ]
  },
  {
   "cell_type": "code",
   "execution_count": 26,
   "metadata": {},
   "outputs": [
    {
     "data": {
      "text/html": [
       "<div>\n",
       "<style scoped>\n",
       "    .dataframe tbody tr th:only-of-type {\n",
       "        vertical-align: middle;\n",
       "    }\n",
       "\n",
       "    .dataframe tbody tr th {\n",
       "        vertical-align: top;\n",
       "    }\n",
       "\n",
       "    .dataframe thead th {\n",
       "        text-align: right;\n",
       "    }\n",
       "</style>\n",
       "<table border=\"1\" class=\"dataframe\">\n",
       "  <thead>\n",
       "    <tr style=\"text-align: right;\">\n",
       "      <th></th>\n",
       "      <th>drug_id</th>\n",
       "      <th>description</th>\n",
       "    </tr>\n",
       "  </thead>\n",
       "  <tbody>\n",
       "    <tr>\n",
       "      <th>0</th>\n",
       "      <td>DB00006</td>\n",
       "      <td>Dan shen, dong quai, evening primrose oil, gin...</td>\n",
       "    </tr>\n",
       "    <tr>\n",
       "      <th>1</th>\n",
       "      <td>DB00006</td>\n",
       "      <td>Echinacea</td>\n",
       "    </tr>\n",
       "    <tr>\n",
       "      <th>2</th>\n",
       "      <td>DB00008</td>\n",
       "      <td>Recommended adequate hydration.</td>\n",
       "    </tr>\n",
       "    <tr>\n",
       "      <th>3</th>\n",
       "      <td>DB00011</td>\n",
       "      <td>Avoid alcohol.</td>\n",
       "    </tr>\n",
       "    <tr>\n",
       "      <th>4</th>\n",
       "      <td>DB00034</td>\n",
       "      <td>Avoid alcohol.</td>\n",
       "    </tr>\n",
       "  </tbody>\n",
       "</table>\n",
       "</div>"
      ],
      "text/plain": [
       "   drug_id                                        description\n",
       "0  DB00006  Dan shen, dong quai, evening primrose oil, gin...\n",
       "1  DB00006                                          Echinacea\n",
       "2  DB00008                    Recommended adequate hydration.\n",
       "3  DB00011                                     Avoid alcohol.\n",
       "4  DB00034                                     Avoid alcohol."
      ]
     },
     "execution_count": 26,
     "metadata": {},
     "output_type": "execute_result"
    }
   ],
   "source": [
    "split_df.head()"
   ]
  },
  {
   "cell_type": "code",
   "execution_count": 27,
   "metadata": {},
   "outputs": [
    {
     "data": {
      "text/html": [
       "<div>\n",
       "<style scoped>\n",
       "    .dataframe tbody tr th:only-of-type {\n",
       "        vertical-align: middle;\n",
       "    }\n",
       "\n",
       "    .dataframe tbody tr th {\n",
       "        vertical-align: top;\n",
       "    }\n",
       "\n",
       "    .dataframe thead th {\n",
       "        text-align: right;\n",
       "    }\n",
       "</style>\n",
       "<table border=\"1\" class=\"dataframe\">\n",
       "  <thead>\n",
       "    <tr style=\"text-align: right;\">\n",
       "      <th></th>\n",
       "      <th>drug_id</th>\n",
       "      <th>description</th>\n",
       "    </tr>\n",
       "  </thead>\n",
       "  <tbody>\n",
       "    <tr>\n",
       "      <th>0</th>\n",
       "      <td>DB00006</td>\n",
       "      <td>Dan shen, dong quai, evening primrose oil, gin...</td>\n",
       "    </tr>\n",
       "    <tr>\n",
       "      <th>1</th>\n",
       "      <td>DB00006</td>\n",
       "      <td>Echinacea</td>\n",
       "    </tr>\n",
       "    <tr>\n",
       "      <th>2</th>\n",
       "      <td>DB00008</td>\n",
       "      <td>Recommended adequate hydration.</td>\n",
       "    </tr>\n",
       "    <tr>\n",
       "      <th>3</th>\n",
       "      <td>DB00011</td>\n",
       "      <td>Avoid alcohol.</td>\n",
       "    </tr>\n",
       "    <tr>\n",
       "      <th>4</th>\n",
       "      <td>DB00034</td>\n",
       "      <td>Avoid alcohol.</td>\n",
       "    </tr>\n",
       "    <tr>\n",
       "      <th>...</th>\n",
       "      <td>...</td>\n",
       "      <td>...</td>\n",
       "    </tr>\n",
       "    <tr>\n",
       "      <th>1342</th>\n",
       "      <td>DB09053</td>\n",
       "      <td>Administration with food increases ibrutinib e...</td>\n",
       "    </tr>\n",
       "    <tr>\n",
       "      <th>1343</th>\n",
       "      <td>DB09083</td>\n",
       "      <td>Grapefruit juice may increase ivabradine expos...</td>\n",
       "    </tr>\n",
       "    <tr>\n",
       "      <th>1344</th>\n",
       "      <td>DB09083</td>\n",
       "      <td>Therefore grapefruit juice consumption is not ...</td>\n",
       "    </tr>\n",
       "    <tr>\n",
       "      <th>1345</th>\n",
       "      <td>DB09570</td>\n",
       "      <td>A food effect study conducted in patients with...</td>\n",
       "    </tr>\n",
       "    <tr>\n",
       "      <th>1346</th>\n",
       "      <td>DB11575</td>\n",
       "      <td>Relative to fasting conditions, the administra...</td>\n",
       "    </tr>\n",
       "  </tbody>\n",
       "</table>\n",
       "<p>1332 rows × 2 columns</p>\n",
       "</div>"
      ],
      "text/plain": [
       "      drug_id                                        description\n",
       "0     DB00006  Dan shen, dong quai, evening primrose oil, gin...\n",
       "1     DB00006                                          Echinacea\n",
       "2     DB00008                    Recommended adequate hydration.\n",
       "3     DB00011                                     Avoid alcohol.\n",
       "4     DB00034                                     Avoid alcohol.\n",
       "...       ...                                                ...\n",
       "1342  DB09053  Administration with food increases ibrutinib e...\n",
       "1343  DB09083  Grapefruit juice may increase ivabradine expos...\n",
       "1344  DB09083  Therefore grapefruit juice consumption is not ...\n",
       "1345  DB09570  A food effect study conducted in patients with...\n",
       "1346  DB11575  Relative to fasting conditions, the administra...\n",
       "\n",
       "[1332 rows x 2 columns]"
      ]
     },
     "execution_count": 27,
     "metadata": {},
     "output_type": "execute_result"
    }
   ],
   "source": [
    "drop_values = [ 'No food effects.', 'No known food interactions.', 'No food effects were found.', 'No food effects found.', \n",
    "               'Food does not affect absorption.', 'Not affected by food.', 'Crofelemer is not affected by food.']\n",
    "split_df[~split_df.description.str.contains('|'.join(drop_values))]"
   ]
  },
  {
   "cell_type": "code",
   "execution_count": 28,
   "metadata": {},
   "outputs": [],
   "source": [
    "split_df.to_csv(\"../cleaned_data/food_interactions.csv\", encoding='utf-8', index=False)"
   ]
  },
  {
   "cell_type": "markdown",
   "metadata": {},
   "source": [
    "## III. Result evaluation "
   ]
  },
  {
   "cell_type": "markdown",
   "metadata": {},
   "source": [
    "This section evaluates the new, cleaned data retrieved from the previous step. The first generated graph shows an increase of short descritions but underlines the fact that there is still room for more data processing. Another graph shows the 30 most common food nouns."
   ]
  },
  {
   "cell_type": "code",
   "execution_count": 38,
   "metadata": {},
   "outputs": [],
   "source": [
    "from nltk import word_tokenize\n",
    "import matplotlib.pyplot as plt"
   ]
  },
  {
   "cell_type": "code",
   "execution_count": 143,
   "metadata": {},
   "outputs": [],
   "source": [
    "def getWordCount(df):\n",
    "    word_count = []\n",
    "    for index, row in df.iterrows():\n",
    "        tokens = word_tokenize(row['description'])\n",
    "        words = [word for word in tokens if word.isalpha()]\n",
    "        word_count.append(len(words))\n",
    "    return word_count"
   ]
  },
  {
   "cell_type": "code",
   "execution_count": 156,
   "metadata": {},
   "outputs": [],
   "source": [
    "initial_word_count = getWordCount(food_df)\n",
    "word_count = getWordCount(split_df)"
   ]
  },
  {
   "cell_type": "code",
   "execution_count": 183,
   "metadata": {},
   "outputs": [
    {
     "data": {
      "image/png": "[encoded data removed]",
      "text/plain": [
       "<Figure size 1600x800 with 1 Axes>"
      ]
     },
     "metadata": {},
     "output_type": "display_data"
    }
   ],
   "source": [
    "plt.figure(num=None, figsize=(20, 10), dpi=80, facecolor='w', edgecolor='k')\n",
    "plt.hist(initial_word_count, bins=68, label=\"Initial data\", alpha=0.5) \n",
    "plt.hist(word_count, bins=46, label=\"Data after sentence splitting\", alpha=0.5)\n",
    "plt.legend(loc='upper right')\n",
    "plt.xlabel(\"Number of words in a sentence\", fontsize=15)\n",
    "plt.ylabel(\"Frequency\", fontsize=15)\n",
    "plt.xticks(range(0,69,2))\n",
    "plt.yticks(range(0,350,50))\n",
    "plt.title('Food interaction description word count', fontsize=20)\n",
    "plt.show()"
   ]
  },
  {
   "cell_type": "code",
   "execution_count": 59,
   "metadata": {},
   "outputs": [],
   "source": [
    "from nltk.corpus import stopwords\n",
    "from nltk import pos_tag"
   ]
  },
  {
   "cell_type": "code",
   "execution_count": 69,
   "metadata": {},
   "outputs": [],
   "source": [
    "def getColumnWords(df):\n",
    "    word_list = []\n",
    "    stop_words = set(stopwords.words('english'))\n",
    "    for index, row in df.iterrows():\n",
    "        nouns = [token for token, pos in pos_tag(word_tokenize(row['description'])) if pos =='NN']\n",
    "        # remove tokens that are not alphabetic\n",
    "        words = [word for word in nouns if word.isalpha()]\n",
    "        # filter out stop words\n",
    "        words = [w for w in words if not w in stop_words]\n",
    "        word_list += words\n",
    "    return word_list"
   ]
  },
  {
   "cell_type": "code",
   "execution_count": 29,
   "metadata": {},
   "outputs": [],
   "source": [
    "cleaned_df = pd.read_csv('../cleaned_data/food_interactions.csv')"
   ]
  },
  {
   "cell_type": "code",
   "execution_count": 70,
   "metadata": {},
   "outputs": [],
   "source": [
    "words_total = getColumnWords(cleaned_df)\n",
    "words_total = [x.lower() for x in words_total]"
   ]
  },
  {
   "cell_type": "code",
   "execution_count": 99,
   "metadata": {},
   "outputs": [],
   "source": [
    "stop_words = [\"regard\", \"absorption\", \"irritation\", \"product\", \"effect\", \"iritation\", \"empty\", \"taken\",\n",
    "              \"increases\", \"excessive\", \"stomach\", \"product\", \"administration\",'medication','hour',\"bioavailability\",\"glass\",\n",
    "              \"time\",\"risk\",\"intake\",\"treatment\",\"exposure\",\"use\",\"drug\",\"concentration\",\"hyperkalemia\",\"serum\",\"nausea\",\"breakfast\",\n",
    "             \"rate\", \"extent\", \"increase\",\"excretion\",\"juice\",\"metabolism\", \"meal\",\"day\",\"toxicity\",\"physician\",\"consider\",\"everyday\"]\n",
    "words_total = [w for w in words_total if not w in stop_words]"
   ]
  },
  {
   "cell_type": "code",
   "execution_count": 47,
   "metadata": {},
   "outputs": [],
   "source": [
    "from nltk import FreqDist"
   ]
  },
  {
   "cell_type": "code",
   "execution_count": 136,
   "metadata": {},
   "outputs": [
    {
     "data": {
      "image/png": "[encoded data removed]",
      "text/plain": [
       "<Figure size 1440x720 with 1 Axes>"
      ]
     },
     "metadata": {
      "needs_background": "light"
     },
     "output_type": "display_data"
    }
   ],
   "source": [
    "fd = FreqDist(words_total)\n",
    "plt.figure(figsize=(20, 10))\n",
    "plt.xlabel('', fontsize=20)\n",
    "plt.ylabel('', fontsize=20)\n",
    "plt.rc('xtick',labelsize=15)\n",
    "plt.rc('ytick',labelsize=15)\n",
    "plt.title('Most frequent food nouns', fontsize=20)\n",
    "fd.plot(30,cumulative=False)\n",
    "plt.show()"
   ]
  },
  {
   "cell_type": "code",
   "execution_count": null,
   "metadata": {},
   "outputs": [],
   "source": []
  }
 ],
 "metadata": {
  "kernelspec": {
   "display_name": "Python 3",
   "language": "python",
   "name": "python3"
  },
  "language_info": {
   "codemirror_mode": {
    "name": "ipython",
    "version": 3
   },
   "file_extension": ".py",
   "mimetype": "text/x-python",
   "name": "python",
   "nbconvert_exporter": "python",
   "pygments_lexer": "ipython3",
   "version": "3.7.1"
  }
 },
 "nbformat": 4,
 "nbformat_minor": 2
}
